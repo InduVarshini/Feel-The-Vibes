{
 "cells": [
  {
   "cell_type": "code",
   "execution_count": 1,
   "id": "d08ac3dc",
   "metadata": {},
   "outputs": [
    {
     "data": {
      "text/plain": [
       "'\\nInstalling the packages\\n'"
      ]
     },
     "execution_count": 1,
     "metadata": {},
     "output_type": "execute_result"
    }
   ],
   "source": [
    "'''\n",
    "Installing the packages\n",
    "'''\n",
    "#!pip install opendatasets\n",
    "#!pip install spotipy"
   ]
  },
  {
   "cell_type": "code",
   "execution_count": 2,
   "id": "2bbbccf4",
   "metadata": {},
   "outputs": [],
   "source": [
    "#import the necessary libraries\n",
    "import pandas as pd\n",
    "import numpy as np\n",
    "import time\n",
    "import opendatasets as od\n",
    "\n",
    "#importing Spotipy library - A lightweight Python library for Spotify Web API\n",
    "import spotipy\n",
    "from spotipy.oauth2 import SpotifyClientCredentials"
   ]
  },
  {
   "cell_type": "code",
   "execution_count": 3,
   "id": "98fa23eb",
   "metadata": {},
   "outputs": [],
   "source": [
    "def setup_connection():\n",
    "    \n",
    "    '''\n",
    "    setup_connection():\n",
    "    \n",
    "    1. Assigning unique client id and client secret from Spotify API\n",
    "    2. Creating spotify client objects and initiating connection\n",
    "    3. Return the spotipy object\n",
    "    \n",
    "    '''\n",
    "    \n",
    "    #Assigning unique client id and client secret\n",
    "    \n",
    "    cid = '2977e71288534526b508dcbbc5b89bee'\n",
    "    secret = '3424bb06964041e9a73f5ca1696e3c83'\n",
    "    \n",
    "    #Creating spotify client objects and initiating connection\n",
    "    client_credentials_manager = SpotifyClientCredentials(client_id=cid, client_secret=secret)\n",
    "    sp = spotipy.Spotify(client_credentials_manager = client_credentials_manager)\n",
    "    \n",
    "    return sp"
   ]
  },
  {
   "cell_type": "code",
   "execution_count": 4,
   "id": "3c6bc9f6",
   "metadata": {},
   "outputs": [],
   "source": [
    "def get_playlist_info(url, sp):\n",
    "    \n",
    "    '''\n",
    "    get_playlist_info():\n",
    "    \n",
    "    1. Extracting the URI (Unique Resource Identifier) for the playlist \n",
    "    2. Get the total number of tracks in the playlist\n",
    "    3. Return the values as individual variables\n",
    "    \n",
    "    '''\n",
    "    playlist_link = url\n",
    "    \n",
    "    playlist_URI = playlist_link.split(\"/\")[-1].split(\"?\")[0]\n",
    "    count_of_tracks = sp.playlist_tracks(playlist_URI)['total']\n",
    "    \n",
    "    return playlist_URI, count_of_tracks"
   ]
  },
  {
   "cell_type": "code",
   "execution_count": 5,
   "id": "8e204ecb",
   "metadata": {},
   "outputs": [],
   "source": [
    "def get_track_info(track):\n",
    "    \n",
    "    '''\n",
    "    get_track_info():\n",
    "    \n",
    "    1. Create an empty dictionary, track_info\n",
    "    2. Extract unique track identifier, track name, track's artist name, track's album name, Track popularity,\n",
    "       Get Track URL\n",
    "    3. Store the extracted values in the track_info dictionary\n",
    "    4. Return the track_info dictionary\n",
    "    \n",
    "    '''\n",
    "    track_basic_information = {}\n",
    "    \n",
    "    try:\n",
    "        track_basic_information['track_id'] = track[\"track\"][\"uri\"].split(\":\")[-1]\n",
    "        track_basic_information['track_name'] = track[\"track\"][\"name\"]\n",
    "        track_basic_information['artist_name'] = track[\"track\"][\"artists\"][0][\"name\"]\n",
    "        track_basic_information['album_name'] = track[\"track\"][\"album\"][\"name\"]\n",
    "        track_basic_information['track_popularity'] = track[\"track\"][\"popularity\"] \n",
    "        track_basic_information['track_url'] = \"https://open.spotify.com/track/\" + \\\n",
    "                                            track_basic_information['track_id'] \n",
    "        \n",
    "            \n",
    "    except:\n",
    "        track_basic_information['track_id'] = np.nan\n",
    "        track_basic_information['track_id'] = np.nan\n",
    "        track_basic_information['track_name'] = np.nan\n",
    "        track_basic_information['artist_name'] = np.nan\n",
    "        track_basic_information['album_name'] = np.nan\n",
    "        track_basic_information['track_popularity'] = np.nan \n",
    "        track_basic_information['track_url'] = np.nan\n",
    "        \n",
    "    \n",
    "\n",
    "    return track_basic_information"
   ]
  },
  {
   "cell_type": "code",
   "execution_count": 6,
   "id": "22cc97fc",
   "metadata": {},
   "outputs": [],
   "source": [
    "def get_audio_features(audio_features):\n",
    "    \n",
    "    '''\n",
    "    get_audio_features():\n",
    "    \n",
    "    1. Extract audio features such as danceability, energy, key, loudness, mode, speechiness, \n",
    "       acousticness, instrumentalness, liveness, valence, tempo, duration_ms, time_signature\n",
    "    2. Create an empty dictionary\n",
    "    3. Run a loop to extract the required audio features and append it to the dictionary\n",
    "    4. Return the dictionary of audio components\n",
    "    \n",
    "    '''\n",
    "    #Selecting columns to be extracted from the audio features\n",
    "    audio_features_to_extract = ['danceability', 'energy', 'key', 'loudness', 'mode', 'speechiness', \n",
    "                                 'acousticness','instrumentalness', 'liveness', 'valence', 'tempo',\n",
    "                                 'duration_ms', 'time_signature']\n",
    "    \n",
    "    track_audio_features = {}\n",
    "    \n",
    "    #Extracting Audio features by looping over the features\n",
    "    for feature in audio_features_to_extract:\n",
    "        \n",
    "        if audio_features[feature] != np.nan:\n",
    "            track_audio_features[feature] = audio_features[feature]\n",
    "        \n",
    "        else:\n",
    "            track_audio_features[feature] = np.nan\n",
    "     \n",
    "    return track_audio_features"
   ]
  },
  {
   "cell_type": "code",
   "execution_count": 7,
   "id": "f0f5dca9",
   "metadata": {},
   "outputs": [],
   "source": [
    "def create_track_record(sp, track):\n",
    "    \n",
    "    '''\n",
    "    create_track_record():\n",
    "    \n",
    "    1. Create a track record dictionary\n",
    "    2. Get basic track information as a dictionary and append it to track record\n",
    "    3. Get the audio features of the track as a dictionary and append it to track record\n",
    "    4. Convert the dictionary to dataframe\n",
    "    5. Return the track record dataframe\n",
    "    \n",
    "    '''\n",
    "    \n",
    "    track_record = {}\n",
    "    \n",
    "    #Get Track info\n",
    "    track_info = get_track_info(track)\n",
    "    track_record.update(track_info)\n",
    "    \n",
    "    #Extract audio features\n",
    "    try:\n",
    "        audio_feature_list = sp.audio_features(track_record['track_id'])[0]\n",
    "        audio_components = get_audio_features(audio_feature_list)\n",
    "        \n",
    "    except:\n",
    "        audio_components = {'danceability': np.nan, \n",
    "         'energy': np.nan, \n",
    "         'key': np.nan, \n",
    "         'loudness': np.nan, \n",
    "         'mode': np.nan, \n",
    "         'speechiness': np.nan, \n",
    "         'acousticness': np.nan, \n",
    "         'instrumentalness': np.nan, \n",
    "         'liveness': np.nan, \n",
    "         'valence':np.nan, \n",
    "         'tempo': np.nan, \n",
    "         'duration_ms': np.nan, \n",
    "         'time_signature': np.nan}\n",
    "    \n",
    "    track_record.update(audio_components)\n",
    "    track_record_df = pd.DataFrame([track_record])\n",
    "    \n",
    "    return track_record_df\n",
    "    "
   ]
  },
  {
   "cell_type": "code",
   "execution_count": 8,
   "id": "1bba72d2",
   "metadata": {},
   "outputs": [],
   "source": [
    "def main(playlist_url):\n",
    "    \n",
    "    '''\n",
    "    main():\n",
    "    \n",
    "    1. Setup the Spotify API connection using setup_connection()\n",
    "    2. Get playlist_id and count of tracks in the playlist using get_playlist_info(playlist_url, spo)\n",
    "    3. Run a loop over all the tracks items in the playlist uri\n",
    "    4. Inside the loop, call the create_track_record function(spotipy_object, track_item)\n",
    "    5. Create a dataframe and append the dictionary returned for each track\n",
    "    6. Return the dataframe\n",
    "    \n",
    "    '''\n",
    "    \n",
    "    #setup the Spotify API connection\n",
    "    spo = setup_connection()\n",
    "    print(\"Playlist URL: \", playlist_url)\n",
    "    \n",
    "    #Get playlist_id and count of tracks in the playlist\n",
    "    playlist_id, total_tracks = get_playlist_info(playlist_url, spo)\n",
    "    print(\"Playlist id: \", playlist_id)\n",
    "    print(\"Total Number of Tracks in the Playlist: \", total_tracks)\n",
    "    \n",
    "    all_data = pd.DataFrame()\n",
    "    \n",
    "    for i in range(0, 800, 100):\n",
    "        \n",
    "        print(i)\n",
    "        \n",
    "        for track in spo.playlist_tracks(playlist_id, limit = 100, offset = i)[\"items\"]:\n",
    "            time.sleep(3)\n",
    "            track_details = create_track_record(spo, track)\n",
    "            all_data = pd.concat([all_data, track_details], ignore_index=True)\n",
    "            all_data.to_csv(f\"spotify_playlist_api_data_{i}.csv\", index = False)\n",
    "            time.sleep(3)\n",
    "        \n",
    "        time.sleep(30)\n",
    "        \n",
    "\n",
    "    return all_data"
   ]
  },
  {
   "cell_type": "code",
   "execution_count": null,
   "id": "cb3b7402",
   "metadata": {},
   "outputs": [
    {
     "name": "stdout",
     "output_type": "stream",
     "text": [
      "Playlist URL:  https://open.spotify.com/playlist/1G8IpkZKobrIlXcVPoSIuf?si=aee64286897448f3\n",
      "Playlist id:  1G8IpkZKobrIlXcVPoSIuf\n",
      "Total Number of Tracks in the Playlist:  10000\n",
      "0\n"
     ]
    },
    {
     "name": "stderr",
     "output_type": "stream",
     "text": [
      "Max Retries reached\n",
      "Max Retries reached\n",
      "Max Retries reached\n",
      "Max Retries reached\n"
     ]
    }
   ],
   "source": [
    "url = 'https://open.spotify.com/playlist/1G8IpkZKobrIlXcVPoSIuf?si=aee64286897448f3'\n",
    "dataset = main(url)\n",
    "dataset"
   ]
  },
  {
   "cell_type": "markdown",
   "id": "840c0881",
   "metadata": {},
   "source": [
    "References:\n",
    "1. https://medium.com/@maxtingle/getting-started-with-spotifys-api-spotipy-197c3dc6353b\n",
    "2. https://developer.spotify.com/documentation/web-api\n",
    "3. https://spotipy.readthedocs.io/en/latest/#\n",
    "4. https://towardsdatascience.com/extracting-song-data-from-the-spotify-api-using-python-b1e79388d50\n",
    "5. https://www.kaggle.com/code/laurabarreda/extracting-song-data-from-the-spotify-api\n",
    "6. https://www.kaggle.com/datasets/notshrirang/spotify-million-song-dataset/data"
   ]
  }
 ],
 "metadata": {
  "kernelspec": {
   "display_name": "Python 3 (ipykernel)",
   "language": "python",
   "name": "python3"
  },
  "language_info": {
   "codemirror_mode": {
    "name": "ipython",
    "version": 3
   },
   "file_extension": ".py",
   "mimetype": "text/x-python",
   "name": "python",
   "nbconvert_exporter": "python",
   "pygments_lexer": "ipython3",
   "version": "3.11.4"
  }
 },
 "nbformat": 4,
 "nbformat_minor": 5
}
